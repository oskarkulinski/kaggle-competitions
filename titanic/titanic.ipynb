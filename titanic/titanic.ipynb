{
 "cells": [
  {
   "cell_type": "code",
   "id": "initial_id",
   "metadata": {
    "collapsed": true,
    "ExecuteTime": {
     "end_time": "2024-08-26T16:14:16.985488Z",
     "start_time": "2024-08-26T16:14:16.975476Z"
    }
   },
   "source": [
    "import numpy as np\n",
    "import pandas as pd\n",
    "import re"
   ],
   "outputs": [],
   "execution_count": 56
  },
  {
   "metadata": {
    "ExecuteTime": {
     "end_time": "2024-08-26T16:38:37.794228Z",
     "start_time": "2024-08-26T16:38:37.763565Z"
    }
   },
   "cell_type": "code",
   "source": [
    "data = pd.read_csv(\"data/train.csv\")\n",
    "data.drop([\"Name\", \"Ticket\"], axis=1, inplace=True)\n",
    "data[\"Sex\"] = data[\"Sex\"].map(lambda x: 1 if x == \"male\" else 0)\n",
    "data['Deck'] = data['Cabin'].map(lambda x: '0' if x is np.NaN else ord(x[0]))\n",
    "data[\"Cabin\"] = data[\"Cabin\"].map(lambda x: -1 if x is np.NaN else re.match(r\"\\d+\", x))\n",
    "data[\"Embarked\"] = data[\"Embarked\"].map(lambda x: 0 if x is np.NaN else ord(x))\n",
    "x_train = data.drop([\"Survived\"], axis=1)\n",
    "y_train = data[\"Survived\"]"
   ],
   "id": "8257a9cbc185e632",
   "outputs": [],
   "execution_count": 71
  },
  {
   "metadata": {
    "ExecuteTime": {
     "end_time": "2024-08-26T16:38:38.416849Z",
     "start_time": "2024-08-26T16:38:38.403162Z"
    }
   },
   "cell_type": "code",
   "source": [
    "test_data = pd.read_csv(\"data/test.csv\")\n",
    "test_data.drop([\"Name\", \"Ticket\"], axis=1, inplace=True)\n",
    "test_data[\"Sex\"] = test_data[\"Sex\"].map(lambda x: 1 if x == \"male\" else 0)\n",
    "test_data['Deck'] = test_data['Cabin'].map(lambda x: '0' if x is np.NaN else ord(x[0]))\n",
    "test_data[\"Cabin\"] = test_data[\"Cabin\"].map(lambda x: -1 if x is np.NaN else re.match(r\"\\d+\", x))\n",
    "test_data[\"Embarked\"] = test_data[\"Embarked\"].map(lambda x: 0 if x is np.NaN else ord(x))\n",
    "x_test = test_data"
   ],
   "id": "5e778608d95ac50f",
   "outputs": [],
   "execution_count": 72
  },
  {
   "metadata": {
    "ExecuteTime": {
     "end_time": "2024-08-27T09:45:20.553181Z",
     "start_time": "2024-08-27T09:45:20.504831Z"
    }
   },
   "cell_type": "code",
   "source": [
    "from sklearn.tree import DecisionTreeClassifier\n",
    "tree = DecisionTreeClassifier(max_depth=12)\n",
    "tree.fit(x_train, y_train)\n",
    "tree.score(x_train, y_train)"
   ],
   "id": "c19e6703ecd601d9",
   "outputs": [
    {
     "data": {
      "text/plain": [
       "0.9584736251402918"
      ]
     },
     "execution_count": 92,
     "metadata": {},
     "output_type": "execute_result"
    }
   ],
   "execution_count": 92
  },
  {
   "metadata": {
    "ExecuteTime": {
     "end_time": "2024-08-27T09:45:22.217408Z",
     "start_time": "2024-08-27T09:45:22.187473Z"
    }
   },
   "cell_type": "code",
   "source": [
    "y_pred = tree.predict(x_test)\n",
    "\n",
    "submission = pd.DataFrame()\n",
    "submission[\"PassengerId\"] = test_data[\"PassengerId\"]\n",
    "submission[\"Survived\"] = y_pred\n",
    "\n",
    "submission.to_csv(\"data/submission.csv\", index=False)"
   ],
   "id": "bb5bdca8e86dc5b",
   "outputs": [],
   "execution_count": 93
  },
  {
   "metadata": {
    "ExecuteTime": {
     "end_time": "2024-08-27T09:50:44.351251Z",
     "start_time": "2024-08-27T09:50:44.213759Z"
    }
   },
   "cell_type": "code",
   "source": [
    "from sklearn.ensemble import RandomForestClassifier\n",
    "forest = RandomForestClassifier(max_depth=15)\n",
    "forest.fit(x_train, y_train)\n",
    "forest.score(x_train, y_train)"
   ],
   "id": "71bc70e6b0cae241",
   "outputs": [
    {
     "data": {
      "text/plain": [
       "0.978675645342312"
      ]
     },
     "execution_count": 106,
     "metadata": {},
     "output_type": "execute_result"
    }
   ],
   "execution_count": 106
  },
  {
   "metadata": {
    "ExecuteTime": {
     "end_time": "2024-08-27T09:50:45.574905Z",
     "start_time": "2024-08-27T09:50:45.541112Z"
    }
   },
   "cell_type": "code",
   "source": [
    "y_pred = forest.predict(x_test)\n",
    "\n",
    "submission = pd.DataFrame()\n",
    "submission[\"PassengerId\"] = test_data[\"PassengerId\"]\n",
    "submission[\"Survived\"] = y_pred\n",
    "\n",
    "submission.to_csv(\"data/submission.csv\", index=False)"
   ],
   "id": "f5fc320f7051c42c",
   "outputs": [],
   "execution_count": 107
  },
  {
   "metadata": {},
   "cell_type": "code",
   "outputs": [],
   "execution_count": null,
   "source": "",
   "id": "2ba77ccc3e43139a"
  }
 ],
 "metadata": {
  "kernelspec": {
   "display_name": "Python 3",
   "language": "python",
   "name": "python3"
  },
  "language_info": {
   "codemirror_mode": {
    "name": "ipython",
    "version": 2
   },
   "file_extension": ".py",
   "mimetype": "text/x-python",
   "name": "python",
   "nbconvert_exporter": "python",
   "pygments_lexer": "ipython2",
   "version": "2.7.6"
  }
 },
 "nbformat": 4,
 "nbformat_minor": 5
}
