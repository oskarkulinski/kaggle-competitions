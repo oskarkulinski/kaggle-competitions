{
 "cells": [
  {
   "cell_type": "code",
   "id": "initial_id",
   "metadata": {
    "collapsed": true,
    "ExecuteTime": {
     "end_time": "2024-08-29T13:27:16.776779Z",
     "start_time": "2024-08-29T13:27:16.769133Z"
    }
   },
   "source": [
    "import numpy as np\n",
    "import pandas as pd\n",
    "import re"
   ],
   "outputs": [],
   "execution_count": 22
  },
  {
   "metadata": {
    "ExecuteTime": {
     "end_time": "2024-08-29T14:31:02.525365Z",
     "start_time": "2024-08-29T14:31:02.503504Z"
    }
   },
   "cell_type": "code",
   "source": [
    "data = pd.read_csv(\"data/train.csv\")\n",
    "data.drop([\"Name\", \"Ticket\"], axis=1, inplace=True)\n",
    "data[\"Sex\"] = data[\"Sex\"].map(lambda x: 1 if x == \"male\" else 0)\n",
    "data['Deck'] = data['Cabin'].map(lambda x: '0' if x is np.NaN else ord(x[0]))\n",
    "data[\"Cabin\"] = data[\"Cabin\"].map(lambda x: -1 if x is np.NaN else -1 if not re.search(r\"\\d+\", x) else re.search(r\"\\d+\", x).group() )\n",
    "data[\"Embarked\"] = data[\"Embarked\"].map(lambda x: 0 if x is np.NaN else ord(x))\n",
    "avg_age = data[\"Age\"].mean()\n",
    "data[\"Age\"] = data[\"Age\"].fillna(avg_age)\n",
    "avg_fare = data[\"Fare\"].mean()\n",
    "data[\"Fare\"] = data[\"Fare\"].fillna(avg_fare)\n",
    "\n",
    "x_train = data.drop([\"Survived\"], axis=1)\n",
    "y_train = data[\"Survived\"]"
   ],
   "id": "8257a9cbc185e632",
   "outputs": [],
   "execution_count": 53
  },
  {
   "metadata": {
    "ExecuteTime": {
     "end_time": "2024-08-29T14:31:03.481916Z",
     "start_time": "2024-08-29T14:31:03.432397Z"
    }
   },
   "cell_type": "code",
   "source": [
    "test_data = pd.read_csv(\"data/test.csv\")\n",
    "test_data.drop([\"Name\", \"Ticket\"], axis=1, inplace=True)\n",
    "test_data[\"Sex\"] = test_data[\"Sex\"].map(lambda x: 1 if x == \"male\" else 0)\n",
    "test_data['Deck'] = test_data['Cabin'].map(lambda x: '0' if x is np.NaN else ord(x[0]))\n",
    "test_data[\"Cabin\"] = test_data[\"Cabin\"].map(lambda x: -1 if x is np.NaN else -1 if not re.search(r\"\\d+\", x) else re.search(r\"\\d+\", x).group() )\n",
    "test_data[\"Embarked\"] = test_data[\"Embarked\"].map(lambda x: 0 if x is np.NaN else ord(x))\n",
    "avg_age = test_data[\"Age\"].mean()\n",
    "test_data[\"Age\"] = test_data[\"Age\"].fillna(avg_age)\n",
    "avg_fare = test_data[\"Fare\"].mean()\n",
    "test_data[\"Fare\"] = test_data[\"Fare\"].fillna(avg_fare)\n",
    "x_test = test_data"
   ],
   "id": "5e778608d95ac50f",
   "outputs": [],
   "execution_count": 54
  },
  {
   "metadata": {
    "ExecuteTime": {
     "end_time": "2024-08-29T14:31:04.225830Z",
     "start_time": "2024-08-29T14:31:04.178420Z"
    }
   },
   "cell_type": "code",
   "source": [
    "from sklearn.tree import DecisionTreeClassifier\n",
    "tree = DecisionTreeClassifier(max_depth=12)\n",
    "tree.fit(x_train, y_train)\n",
    "tree.score(x_train, y_train)"
   ],
   "id": "c19e6703ecd601d9",
   "outputs": [
    {
     "data": {
      "text/plain": [
       "0.9652076318742986"
      ]
     },
     "execution_count": 55,
     "metadata": {},
     "output_type": "execute_result"
    }
   ],
   "execution_count": 55
  },
  {
   "metadata": {
    "ExecuteTime": {
     "end_time": "2024-08-29T14:31:05.182739Z",
     "start_time": "2024-08-29T14:31:05.173589Z"
    }
   },
   "cell_type": "code",
   "source": [
    "y_pred = tree.predict(x_test)\n",
    "\n",
    "submission = pd.DataFrame()\n",
    "submission[\"PassengerId\"] = test_data[\"PassengerId\"]\n",
    "submission[\"Survived\"] = y_pred\n",
    "\n",
    "submission.to_csv(\"data/submission.csv\", index=False)"
   ],
   "id": "bb5bdca8e86dc5b",
   "outputs": [],
   "execution_count": 56
  },
  {
   "metadata": {
    "ExecuteTime": {
     "end_time": "2024-08-29T13:12:33.511829Z",
     "start_time": "2024-08-29T13:12:33.194617Z"
    }
   },
   "cell_type": "code",
   "source": [
    "from sklearn.ensemble import RandomForestClassifier\n",
    "forest = RandomForestClassifier(max_depth=15)\n",
    "forest.fit(x_train, y_train)\n",
    "forest.score(x_train, y_train)"
   ],
   "id": "71bc70e6b0cae241",
   "outputs": [
    {
     "data": {
      "text/plain": [
       "0.9820426487093153"
      ]
     },
     "execution_count": 13,
     "metadata": {},
     "output_type": "execute_result"
    }
   ],
   "execution_count": 13
  },
  {
   "metadata": {
    "ExecuteTime": {
     "end_time": "2024-08-29T13:12:37.909959Z",
     "start_time": "2024-08-29T13:12:37.877483Z"
    }
   },
   "cell_type": "code",
   "source": [
    "y_pred = forest.predict(x_test)\n",
    "\n",
    "submission = pd.DataFrame()\n",
    "submission[\"PassengerId\"] = test_data[\"PassengerId\"]\n",
    "submission[\"Survived\"] = y_pred\n",
    "\n",
    "submission.to_csv(\"data/submission.csv\", index=False)"
   ],
   "id": "f5fc320f7051c42c",
   "outputs": [],
   "execution_count": 14
  },
  {
   "metadata": {
    "ExecuteTime": {
     "end_time": "2024-08-29T14:29:50.628319Z",
     "start_time": "2024-08-29T14:29:50.601755Z"
    }
   },
   "cell_type": "code",
   "source": [
    "rows_with_nan = x_test[x_test.isna().any(axis=1)]\n",
    "rows_with_nan"
   ],
   "id": "48f822f07c292771",
   "outputs": [
    {
     "data": {
      "text/plain": [
       "     PassengerId  Pclass  Sex   Age  SibSp  Parch  Fare Cabin  Embarked Deck\n",
       "152         1044       3    1  60.5      0      0   NaN    -1        83    0"
      ],
      "text/html": [
       "<div>\n",
       "<style scoped>\n",
       "    .dataframe tbody tr th:only-of-type {\n",
       "        vertical-align: middle;\n",
       "    }\n",
       "\n",
       "    .dataframe tbody tr th {\n",
       "        vertical-align: top;\n",
       "    }\n",
       "\n",
       "    .dataframe thead th {\n",
       "        text-align: right;\n",
       "    }\n",
       "</style>\n",
       "<table border=\"1\" class=\"dataframe\">\n",
       "  <thead>\n",
       "    <tr style=\"text-align: right;\">\n",
       "      <th></th>\n",
       "      <th>PassengerId</th>\n",
       "      <th>Pclass</th>\n",
       "      <th>Sex</th>\n",
       "      <th>Age</th>\n",
       "      <th>SibSp</th>\n",
       "      <th>Parch</th>\n",
       "      <th>Fare</th>\n",
       "      <th>Cabin</th>\n",
       "      <th>Embarked</th>\n",
       "      <th>Deck</th>\n",
       "    </tr>\n",
       "  </thead>\n",
       "  <tbody>\n",
       "    <tr>\n",
       "      <th>152</th>\n",
       "      <td>1044</td>\n",
       "      <td>3</td>\n",
       "      <td>1</td>\n",
       "      <td>60.5</td>\n",
       "      <td>0</td>\n",
       "      <td>0</td>\n",
       "      <td>NaN</td>\n",
       "      <td>-1</td>\n",
       "      <td>83</td>\n",
       "      <td>0</td>\n",
       "    </tr>\n",
       "  </tbody>\n",
       "</table>\n",
       "</div>"
      ]
     },
     "execution_count": 52,
     "metadata": {},
     "output_type": "execute_result"
    }
   ],
   "execution_count": 52
  },
  {
   "metadata": {
    "ExecuteTime": {
     "end_time": "2024-08-29T14:34:17.740849Z",
     "start_time": "2024-08-29T14:34:17.547672Z"
    }
   },
   "cell_type": "code",
   "source": [
    "from sklearn.ensemble import AdaBoostClassifier\n",
    "ada = AdaBoostClassifier(estimator=DecisionTreeClassifier(max_depth=6), n_estimators=20, algorithm=\"SAMME\")\n",
    "ada.fit(x_train, y_train)\n",
    "ada.score(x_train, y_train)"
   ],
   "id": "2ba77ccc3e43139a",
   "outputs": [
    {
     "data": {
      "text/plain": [
       "1.0"
      ]
     },
     "execution_count": 69,
     "metadata": {},
     "output_type": "execute_result"
    }
   ],
   "execution_count": 69
  },
  {
   "metadata": {
    "ExecuteTime": {
     "end_time": "2024-08-29T14:34:19.692518Z",
     "start_time": "2024-08-29T14:34:19.612645Z"
    }
   },
   "cell_type": "code",
   "source": [
    "y_pred = ada.predict(x_test)\n",
    "\n",
    "submission = pd.DataFrame()\n",
    "submission[\"PassengerId\"] = test_data[\"PassengerId\"]\n",
    "submission[\"Survived\"] = y_pred\n",
    "\n",
    "submission.to_csv(\"data/submission.csv\", index=False)"
   ],
   "id": "95d0e7d1094d9c05",
   "outputs": [],
   "execution_count": 70
  },
  {
   "metadata": {
    "ExecuteTime": {
     "end_time": "2024-08-29T14:38:46.952937Z",
     "start_time": "2024-08-29T14:38:45.628430Z"
    }
   },
   "cell_type": "code",
   "source": [
    "from sklearn.ensemble import GradientBoostingClassifier\n",
    "grad = GradientBoostingClassifier(n_estimators=560)\n",
    "grad.fit(x_train, y_train)\n",
    "grad.score(x_train, y_train)"
   ],
   "id": "ca41c0cca069d988",
   "outputs": [
    {
     "data": {
      "text/plain": [
       "0.9955106621773289"
      ]
     },
     "execution_count": 80,
     "metadata": {},
     "output_type": "execute_result"
    }
   ],
   "execution_count": 80
  },
  {
   "metadata": {
    "ExecuteTime": {
     "end_time": "2024-08-29T14:38:47.773653Z",
     "start_time": "2024-08-29T14:38:47.732923Z"
    }
   },
   "cell_type": "code",
   "source": [
    "y_pred = grad.predict(x_test)\n",
    "\n",
    "submission = pd.DataFrame()\n",
    "submission[\"PassengerId\"] = test_data[\"PassengerId\"]\n",
    "submission[\"Survived\"] = y_pred\n",
    "\n",
    "submission.to_csv(\"data/submission.csv\", index=False)"
   ],
   "id": "b8ebd68abeaeb427",
   "outputs": [],
   "execution_count": 81
  },
  {
   "metadata": {},
   "cell_type": "code",
   "outputs": [],
   "execution_count": null,
   "source": "",
   "id": "725d697e5756ac10"
  }
 ],
 "metadata": {
  "kernelspec": {
   "display_name": "Python 3",
   "language": "python",
   "name": "python3"
  },
  "language_info": {
   "codemirror_mode": {
    "name": "ipython",
    "version": 2
   },
   "file_extension": ".py",
   "mimetype": "text/x-python",
   "name": "python",
   "nbconvert_exporter": "python",
   "pygments_lexer": "ipython2",
   "version": "2.7.6"
  }
 },
 "nbformat": 4,
 "nbformat_minor": 5
}
